{
 "cells": [
  {
   "cell_type": "markdown",
   "id": "43497020",
   "metadata": {},
   "source": [
    "# Data Science Tools and Ecosystem"
   ]
  },
  {
   "cell_type": "markdown",
   "id": "65b8f4bd",
   "metadata": {},
   "source": [
    "### In this notebook, Data Science Tools and Ecosystem are summarized."
   ]
  },
  {
   "cell_type": "markdown",
   "id": "8b2eaa7c",
   "metadata": {},
   "source": [
    "### Data Science Languages;\n",
    "###### -Python\n",
    "###### -Java\n",
    "###### -Scala\n",
    "###### -SQL\n",
    "###### -Julia\n",
    "###### -C++\n",
    "\n"
   ]
  },
  {
   "cell_type": "markdown",
   "id": "cefac5bd",
   "metadata": {},
   "source": [
    "### Data Science Libraries;\n",
    "###### -Pandas\n",
    "###### -Numpy\n",
    "###### -Matplotlib\n",
    "###### -Seaborn\n",
    "###### -Scipy\n",
    "###### -Keras\n",
    "###### -Tensorflow\n",
    "###### -Pytorch\n",
    "###### -Spark"
   ]
  },
  {
   "cell_type": "markdown",
   "id": "20d2a937",
   "metadata": {},
   "source": [
    "### Data Science Tools\n",
    "| Tool           | Description                                 |\n",
    "|----------------|---------------------------------------------|\n",
    "| Python         | General-purpose programming language         |\n",
    "| R              | Statistical programming language             |\n",
    "| TensorFlow     | Open-source machine learning framework       |\n",
    "| PyTorch        | Deep learning framework                      |\n",
    "| Scikit-learn   | Machine learning library                     |\n",
    "| Pandas         | Data manipulation and analysis library       |\n",
    "| NumPy          | Numerical computing library                   |\n"
   ]
  },
  {
   "cell_type": "markdown",
   "id": "1c0073d5",
   "metadata": {},
   "source": [
    "## Arithmetic Expression Examples\n",
    "\n",
    "In this section, we explore various arithmetic expressions to illustrate basic mathematical operations in programming. Arithmetic expressions involve the use of operators such as addition, subtraction, multiplication, and division to perform calculations on numerical values. These expressions are fundamental to many programming languages, including Python.\n",
    "\n",
    "Let's look at a few examples:\n",
    "\n",
    "1. Addition: Adding two numbers together\n",
    "5+3\n",
    "\n",
    "2. Subtraction: Subtracting one number from another\n",
    "5-3\n",
    "\n",
    "3. Multiplication: Multiplying two numbers\n",
    "5*3\n",
    "\n",
    "4. Division: Dividing one number by another\n",
    "15/3\n",
    "\n",
    "Arithmetic expressions can also include parentheses for grouping operations and using more complex formulas. By understanding and utilizing these arithmetic expressions, we can perform a wide range of mathematical calculations in our programming tasks.\n"
   ]
  },
  {
   "cell_type": "code",
   "execution_count": 2,
   "id": "ce70c3a2",
   "metadata": {},
   "outputs": [
    {
     "data": {
      "text/plain": [
       "40"
      ]
     },
     "execution_count": 2,
     "metadata": {},
     "output_type": "execute_result"
    }
   ],
   "source": [
    "# Example for multiplying and addiction\n",
    "\n",
    "5*(3+5)"
   ]
  },
  {
   "cell_type": "code",
   "execution_count": 3,
   "id": "b1c8964c",
   "metadata": {},
   "outputs": [
    {
     "name": "stdout",
     "output_type": "stream",
     "text": [
      "Minutes: 150\n",
      "Hours: 2.5\n"
     ]
    }
   ],
   "source": [
    "# Convert minutes to hours\n",
    "minutes = 150\n",
    "hours = minutes / 60\n",
    "\n",
    "print(\"Minutes:\", minutes)\n",
    "print(\"Hours:\", hours)\n"
   ]
  },
  {
   "cell_type": "markdown",
   "id": "2a2b961a",
   "metadata": {},
   "source": [
    "# Enes VERGÜL"
   ]
  },
  {
   "cell_type": "code",
   "execution_count": null,
   "id": "0fa199c6",
   "metadata": {},
   "outputs": [],
   "source": []
  }
 ],
 "metadata": {
  "kernelspec": {
   "display_name": "Python 3 (ipykernel)",
   "language": "python",
   "name": "python3"
  },
  "language_info": {
   "codemirror_mode": {
    "name": "ipython",
    "version": 3
   },
   "file_extension": ".py",
   "mimetype": "text/x-python",
   "name": "python",
   "nbconvert_exporter": "python",
   "pygments_lexer": "ipython3",
   "version": "3.10.9"
  }
 },
 "nbformat": 4,
 "nbformat_minor": 5
}
